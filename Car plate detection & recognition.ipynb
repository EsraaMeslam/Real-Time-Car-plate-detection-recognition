{
 "cells": [
  {
   "cell_type": "markdown",
   "id": "364daca8",
   "metadata": {},
   "source": [
    "### Car plate detection & recognation"
   ]
  },
  {
   "cell_type": "code",
   "execution_count": 1,
   "id": "94656845",
   "metadata": {},
   "outputs": [
    {
     "name": "stderr",
     "output_type": "stream",
     "text": [
      "C:\\Users\\user\\anaconda3\\anaconde file\\lib\\site-packages\\paramiko\\transport.py:219: CryptographyDeprecationWarning: Blowfish has been deprecated\n",
      "  \"class\": algorithms.Blowfish,\n"
     ]
    }
   ],
   "source": [
    "import cv2\n",
    "import numpy as np \n",
    "import imutils\n",
    "import easyocr"
   ]
  },
  {
   "cell_type": "code",
   "execution_count": 2,
   "id": "266c5d6a",
   "metadata": {},
   "outputs": [
    {
     "name": "stderr",
     "output_type": "stream",
     "text": [
      "Neither CUDA nor MPS are available - defaulting to CPU. Note: This module is much faster with a GPU.\n"
     ]
    }
   ],
   "source": [
    "\n",
    "cap = cv2.VideoCapture(\"Cars_Plates.mp4\")\n",
    "\n",
    "reader = easyocr.Reader(['en'])\n",
    "\n",
    "while cap.isOpened():\n",
    "    ret, frame = cap.read()\n",
    "    if not ret:\n",
    "        break\n",
    "\n",
    "   \n",
    "    frame = cv2.resize(frame, (1000, 700)) # Resize the frame\n",
    "    \n",
    "    \n",
    "    roi = frame[-200:, 200:-200] # Define  (ROI)\n",
    "\n",
    "    \n",
    "    gray = cv2.cvtColor(roi, cv2.COLOR_BGR2GRAY)# Convert ROI to grayscale\n",
    "    bfilter = cv2.bilateralFilter(gray, 11, 17, 17)  # Apply bilateral filter    \n",
    "    edged = cv2.Canny(bfilter, 30, 200)# Apply Canny\n",
    "\n",
    "    # Find contours \n",
    "    keypoints = cv2.findContours(edged.copy(), cv2.RETR_TREE, cv2.CHAIN_APPROX_SIMPLE)\n",
    "    contours = imutils.grab_contours(keypoints)\n",
    "    contours = sorted(contours, key=cv2.contourArea, reverse=True)[:100]\n",
    "\n",
    "    location = None\n",
    "    for contour in contours:\n",
    "        approx = cv2.approxPolyDP(contour, 5, True)\n",
    "        if len(approx) == 4:\n",
    "            location = approx\n",
    "            break\n",
    "\n",
    "    # Extract the area of the text\n",
    "    if location is not None:\n",
    "        mask = np.zeros(gray.shape, np.uint8)\n",
    "        new_image = cv2.drawContours(mask, [location], -1, 255, -1)\n",
    "        new_image = cv2.bitwise_and(roi, roi, mask=mask)\n",
    "\n",
    "        (x, y) = np.where(mask == 255)\n",
    "        (x1, y1) = (np.min(x), np.min(y))\n",
    "        (x2, y2) = (np.max(x), np.max(y))\n",
    "        cropped_image = gray[x1:x2 + 1, y1:y2 + 1]\n",
    "\n",
    "        \n",
    "        result = reader.readtext(cropped_image)# Read text using EasyOCR\n",
    "        if result:\n",
    "            text = result[0][-2]\n",
    "            font = cv2.FONT_HERSHEY_SIMPLEX\n",
    "            #res = cv2.putText(roi, text=text, org=(location[0][0][0], location[1][0][1] + 60), fontFace=font,\n",
    "                              #fontScale=1, color=(0, 255, 0), thickness=2, lineType=cv2.LINE_AA)\n",
    "            res = cv2.rectangle(roi, tuple(location[0][0]), tuple(location[2][0]), (0, 255, 0), 3)\n",
    "\n",
    "    # Display the frame with ROI\n",
    "    cv2.rectangle(frame,(800,1000),(200,500),(255,255,255),1)\n",
    "    cv2.putText(frame, text='ROI', org=(465,490), fontFace=cv2.FONT_HERSHEY_SIMPLEX, fontScale=1, color=(255, 255, 255), thickness=2, lineType=cv2.LINE_AA)\n",
    "\n",
    "    \n",
    "    cv2.imshow('frame', frame)\n",
    "#     cv2.imshow('roi', roi)\n",
    "#     cv2.imshow('edged', edged)\n",
    "#     cv2.imshow('bfilter', bfilter)\n",
    "    if cv2.waitKey(1) == 27:\n",
    "        break\n",
    "\n",
    "cap.release()\n",
    "cv2.destroyAllWindows()\n"
   ]
  },
  {
   "cell_type": "markdown",
   "id": "1bd05494",
   "metadata": {},
   "source": [
    "### Wish u luck\n",
    "### Esraa Meslam"
   ]
  }
 ],
 "metadata": {
  "kernelspec": {
   "display_name": "Python 3 (ipykernel)",
   "language": "python",
   "name": "python3"
  },
  "language_info": {
   "codemirror_mode": {
    "name": "ipython",
    "version": 3
   },
   "file_extension": ".py",
   "mimetype": "text/x-python",
   "name": "python",
   "nbconvert_exporter": "python",
   "pygments_lexer": "ipython3",
   "version": "3.10.9"
  }
 },
 "nbformat": 4,
 "nbformat_minor": 5
}
